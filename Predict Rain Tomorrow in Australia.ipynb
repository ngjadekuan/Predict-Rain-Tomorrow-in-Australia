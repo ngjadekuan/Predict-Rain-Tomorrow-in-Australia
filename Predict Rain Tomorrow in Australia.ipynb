{
 "cells": [
  {
   "cell_type": "markdown",
   "metadata": {},
   "source": [
    "# Predict Rain Tomorrow in Australia\n",
    "\n",
    "##### Python Version: 3.6.8\n",
    "\n",
    "#### Spark Version: 2.4.3"
   ]
  },
  {
   "cell_type": "markdown",
   "metadata": {},
   "source": [
    "## A. Creating Spark Session and Loading the Data\n",
    "\n",
    "### Step 1:  Import Spark Session and Initialize Spark\n",
    "\n",
    "For this part, I will use and import SparkContext from pyspark, which is the main entry point for Spark Core functionality."
   ]
  },
  {
   "cell_type": "code",
   "execution_count": 1,
   "metadata": {},
   "outputs": [],
   "source": [
    "# create entry points to spark\n",
    "from pyspark import SparkContext # Spark\n",
    "from pyspark.sql import SparkSession # Spark SQL\n",
    "\n",
    "# creating spark session with 4 local cores\n",
    "spark = SparkSession.builder\\\n",
    ".master(\"local[4]\")\\\n",
    ".appName(\"Assignment 2: Predicting Rain in Australia\")\\\n",
    ".getOrCreate()"
   ]
  },
  {
   "cell_type": "code",
   "execution_count": 2,
   "metadata": {},
   "outputs": [
    {
     "data": {
      "text/html": [
       "\n",
       "            <div>\n",
       "                <p><b>SparkSession - in-memory</b></p>\n",
       "                \n",
       "        <div>\n",
       "            <p><b>SparkContext</b></p>\n",
       "\n",
       "            <p><a href=\"http://10.0.2.15:4040\">Spark UI</a></p>\n",
       "\n",
       "            <dl>\n",
       "              <dt>Version</dt>\n",
       "                <dd><code>v2.4.3</code></dd>\n",
       "              <dt>Master</dt>\n",
       "                <dd><code>local[4]</code></dd>\n",
       "              <dt>AppName</dt>\n",
       "                <dd><code>Assignment 2: Predicting Rain in Australia</code></dd>\n",
       "            </dl>\n",
       "        </div>\n",
       "        \n",
       "            </div>\n",
       "        "
      ],
      "text/plain": [
       "<pyspark.sql.session.SparkSession at 0x7f5f67d71940>"
      ]
     },
     "execution_count": 2,
     "metadata": {},
     "output_type": "execute_result"
    }
   ],
   "source": [
    "spark"
   ]
  },
  {
   "cell_type": "code",
   "execution_count": 3,
   "metadata": {},
   "outputs": [],
   "source": [
    "# importing libraries required\n",
    "\n",
    "from pyspark.sql.functions import mean\n",
    "from pyspark.sql.functions import when\n",
    "from pyspark.sql import functions as F\n",
    "import pyspark.sql.functions as f\n",
    "from pyspark.sql.types import DoubleType\n",
    "from pyspark.ml.feature import StringIndexer\n",
    "from pyspark.ml.feature import VectorAssembler\n",
    "from pyspark.ml.classification import DecisionTreeClassifier\n",
    "\n",
    "from pyspark.ml.evaluation import MulticlassClassificationEvaluator\n",
    "from pyspark.ml.classification import RandomForestClassifier\n",
    "from pyspark.ml.classification import LogisticRegression\n",
    "from pyspark.ml.classification import GBTClassifier\n",
    "from pyspark.mllib.evaluation import MulticlassMetrics\n",
    "import matplotlib.pyplot as plt"
   ]
  },
  {
   "cell_type": "markdown",
   "metadata": {},
   "source": [
    "#### Step 2 : Load the dataset and print the schema and total number of entries"
   ]
  },
  {
   "cell_type": "code",
   "execution_count": 4,
   "metadata": {},
   "outputs": [
    {
     "name": "stdout",
     "output_type": "stream",
     "text": [
      "The total number of entries for this dataset is 142193\n"
     ]
    }
   ],
   "source": [
    "# reading csv file\n",
    "weather = spark.read.csv('weatherAUS.csv',inferSchema =True, header = True)\n",
    "\n",
    "# printing the number of entries\n",
    "print(\"The total number of entries for this dataset is\", weather.count())"
   ]
  },
  {
   "cell_type": "code",
   "execution_count": 5,
   "metadata": {
    "scrolled": true
   },
   "outputs": [
    {
     "name": "stdout",
     "output_type": "stream",
     "text": [
      "root\n",
      " |-- Date: timestamp (nullable = true)\n",
      " |-- Location: string (nullable = true)\n",
      " |-- MinTemp: string (nullable = true)\n",
      " |-- MaxTemp: string (nullable = true)\n",
      " |-- Rainfall: string (nullable = true)\n",
      " |-- Evaporation: string (nullable = true)\n",
      " |-- Sunshine: string (nullable = true)\n",
      " |-- WindGustDir: string (nullable = true)\n",
      " |-- WindGustSpeed: string (nullable = true)\n",
      " |-- WindDir9am: string (nullable = true)\n",
      " |-- WindDir3pm: string (nullable = true)\n",
      " |-- WindSpeed9am: string (nullable = true)\n",
      " |-- WindSpeed3pm: string (nullable = true)\n",
      " |-- Humidity9am: string (nullable = true)\n",
      " |-- Humidity3pm: string (nullable = true)\n",
      " |-- Pressure9am: string (nullable = true)\n",
      " |-- Pressure3pm: string (nullable = true)\n",
      " |-- Cloud9am: string (nullable = true)\n",
      " |-- Cloud3pm: string (nullable = true)\n",
      " |-- Temp9am: string (nullable = true)\n",
      " |-- Temp3pm: string (nullable = true)\n",
      " |-- RainToday: string (nullable = true)\n",
      " |-- RainTomorrow: string (nullable = true)\n",
      "\n"
     ]
    }
   ],
   "source": [
    "weather.printSchema()"
   ]
  },
  {
   "cell_type": "markdown",
   "metadata": {},
   "source": [
    "## B. Data Cleaning and Processing\n",
    "\n",
    "\n",
    "### Step 3: Delete columns from the dataset\n",
    "Columns which do not contribute towards the prediction of the rain is deleted. The columns deleted are date, location, evaporation, sunshine, cloud9am, cloud3pm, temp9am and temp3pm.\n",
    "\n"
   ]
  },
  {
   "cell_type": "code",
   "execution_count": 6,
   "metadata": {},
   "outputs": [],
   "source": [
    "# dropping columns\n",
    "weather = weather.drop('Date','Location','Evaporation','Sunshine','Cloud9am','Cloud3pm','Temp9am','Temp3pm')"
   ]
  },
  {
   "cell_type": "code",
   "execution_count": 7,
   "metadata": {
    "scrolled": true
   },
   "outputs": [
    {
     "data": {
      "text/plain": [
       "['MinTemp',\n",
       " 'MaxTemp',\n",
       " 'Rainfall',\n",
       " 'WindGustDir',\n",
       " 'WindGustSpeed',\n",
       " 'WindDir9am',\n",
       " 'WindDir3pm',\n",
       " 'WindSpeed9am',\n",
       " 'WindSpeed3pm',\n",
       " 'Humidity9am',\n",
       " 'Humidity3pm',\n",
       " 'Pressure9am',\n",
       " 'Pressure3pm',\n",
       " 'RainToday',\n",
       " 'RainTomorrow']"
      ]
     },
     "execution_count": 7,
     "metadata": {},
     "output_type": "execute_result"
    }
   ],
   "source": [
    "#checking latest columns\n",
    "weather.columns"
   ]
  },
  {
   "cell_type": "markdown",
   "metadata": {},
   "source": [
    "### Step 4: Printing the number of missing data in each column\n",
    "\n",
    "For this step, I am printing the number of missing data in each column to find out the total number of missing data."
   ]
  },
  {
   "cell_type": "code",
   "execution_count": 8,
   "metadata": {},
   "outputs": [
    {
     "name": "stdout",
     "output_type": "stream",
     "text": [
      "Total null counts for MinTemp are: 637\n",
      "Total null counts for MaxTemp are: 322\n",
      "Total null counts for Rainfall are: 1406\n",
      "Total null counts for WindGustDir are: 9330\n",
      "Total null counts for WindGustSpeed are: 9270\n",
      "Total null counts for WindDir9am are: 10013\n",
      "Total null counts for WindDir3pm are: 3778\n",
      "Total null counts for WindSpeed9am are: 1348\n",
      "Total null counts for WindSpeed3pm are: 2630\n",
      "Total null counts for Humidity9am are: 1774\n",
      "Total null counts for Humidity3pm are: 3610\n",
      "Total null counts for Pressure9am are: 14014\n",
      "Total null counts for Pressure3pm are: 13981\n",
      "Total null counts for RainToday are: 1406\n",
      "Total null counts for RainTomorrow are: 0\n"
     ]
    }
   ],
   "source": [
    "# loooping through the columns to find the total count of NA for each column\n",
    "for i in weather.columns:\n",
    "    count = weather.filter(weather[i] == 'NA').count()\n",
    "    print('Total null counts for',i,'are:',count)"
   ]
  },
  {
   "cell_type": "markdown",
   "metadata": {},
   "source": [
    "### Step 5: Fill the missing data with average value and maximum occurence value\n",
    "\n",
    "There are two types of data values in this dataset which are numeric and non numeric values. For this step, I am obtaining the average of the columns which consist of numeric values individually and replacing the NA values with the average value of that column. For the non numeric values, I am obtaining the most frequent item of the column and replace the NA values with the most frequent item of that column."
   ]
  },
  {
   "cell_type": "code",
   "execution_count": 9,
   "metadata": {
    "scrolled": true
   },
   "outputs": [
    {
     "data": {
      "text/plain": [
       "[Row(MinTemp='13.4', MaxTemp='22.9', Rainfall='0.6', WindGustDir='W', WindGustSpeed='44', WindDir9am='W', WindDir3pm='WNW', WindSpeed9am='20', WindSpeed3pm='24', Humidity9am='71', Humidity3pm='22', Pressure9am='1007.7', Pressure3pm='1007.1', RainToday='No', RainTomorrow='No')]"
      ]
     },
     "execution_count": 9,
     "metadata": {},
     "output_type": "execute_result"
    }
   ],
   "source": [
    "weather.head(1)"
   ]
  },
  {
   "cell_type": "markdown",
   "metadata": {},
   "source": [
    "##### Step 5.1 : Inputting average of numeric columns\n",
    "\n",
    "For this step, I am inputting the average of numeric columns and replacing the NA values with the average calculated individually."
   ]
  },
  {
   "cell_type": "code",
   "execution_count": 10,
   "metadata": {},
   "outputs": [],
   "source": [
    "# creating a list for columns which have numeric value\n",
    "numeric_col = [weather['MinTemp'],weather['MaxTemp'],weather['Rainfall'],weather['WindGustSpeed'],weather['WindSpeed9am'],weather['WindSpeed3pm'],weather['Humidity9am'],weather['Humidity3pm'],weather['Pressure9am'],weather['Pressure3pm']]"
   ]
  },
  {
   "cell_type": "code",
   "execution_count": 11,
   "metadata": {},
   "outputs": [
    {
     "name": "stdout",
     "output_type": "stream",
     "text": [
      "+------------------+\n",
      "|      avg(MinTemp)|\n",
      "+------------------+\n",
      "|12.186399728729311|\n",
      "+------------------+\n",
      "\n",
      "+----------------+\n",
      "|    avg(MaxTemp)|\n",
      "+----------------+\n",
      "|23.2267841912725|\n",
      "+----------------+\n",
      "\n",
      "+------------------+\n",
      "|     avg(Rainfall)|\n",
      "+------------------+\n",
      "|2.3499740743107442|\n",
      "+------------------+\n",
      "\n",
      "+------------------+\n",
      "|avg(WindGustSpeed)|\n",
      "+------------------+\n",
      "| 39.98429165757619|\n",
      "+------------------+\n",
      "\n",
      "+-----------------+\n",
      "|avg(WindSpeed9am)|\n",
      "+-----------------+\n",
      "|  14.001988000994|\n",
      "+-----------------+\n",
      "\n",
      "+-----------------+\n",
      "|avg(WindSpeed3pm)|\n",
      "+-----------------+\n",
      "|18.63757586179718|\n",
      "+-----------------+\n",
      "\n",
      "+----------------+\n",
      "|avg(Humidity9am)|\n",
      "+----------------+\n",
      "|68.8438103105705|\n",
      "+----------------+\n",
      "\n",
      "+------------------+\n",
      "|  avg(Humidity3pm)|\n",
      "+------------------+\n",
      "|51.482606091656265|\n",
      "+------------------+\n",
      "\n",
      "+------------------+\n",
      "|  avg(Pressure9am)|\n",
      "+------------------+\n",
      "|1017.6537584159615|\n",
      "+------------------+\n",
      "\n",
      "+------------------+\n",
      "|  avg(Pressure3pm)|\n",
      "+------------------+\n",
      "|1015.2582035378894|\n",
      "+------------------+\n",
      "\n"
     ]
    }
   ],
   "source": [
    "# looping through the list of column which consist of numeric value to obtain the mean for the columns individually\n",
    "for i in numeric_col:\n",
    "  average = weather.select([mean(i)]).show()\n",
    "  average"
   ]
  },
  {
   "cell_type": "code",
   "execution_count": 12,
   "metadata": {},
   "outputs": [],
   "source": [
    "#inputting the NA values for the column with the average values calculated above\n",
    "\n",
    "updatedmint = weather.withColumn(\"MinTemp\",F.when(F.col(\"MinTemp\") == 'NA',12.2).otherwise(F.col(\"MinTemp\")))\n",
    "updatedmaxt = updatedmint.withColumn(\"MaxTemp\",F.when(F.col(\"MaxTemp\") == 'NA',23.2).otherwise(F.col(\"MaxTemp\")))\n",
    "updatedrainf = updatedmaxt.withColumn(\"Rainfall\",F.when(F.col(\"Rainfall\") == 'NA',2.3).otherwise(F.col(\"Rainfall\")))\n",
    "updatedwind = updatedrainf.withColumn(\"WindGustSpeed\",F.when(F.col(\"WindGustSpeed\") == 'NA',40.0).otherwise(F.col(\"WindGustSpeed\")))\n",
    "updatedwinds9 = updatedwind.withColumn(\"WindSpeed9am\",F.when(F.col(\"WindSpeed9am\") == 'NA',14.0).otherwise(F.col(\"WindSpeed9am\")))\n",
    "updatedwinds3 = updatedwinds9.withColumn(\"WindSpeed3pm\",F.when(F.col(\"WindSpeed3pm\") == 'NA',18.6).otherwise(F.col(\"WindSpeed3pm\")))\n",
    "updatedhum9 = updatedwinds3.withColumn(\"Humidity9am\",F.when(F.col(\"Humidity9am\") == 'NA',68.8).otherwise(F.col(\"Humidity9am\")))\n",
    "updatedhum3 = updatedhum9.withColumn(\"Humidity3pm\",F.when(F.col(\"Humidity3pm\") == 'NA',51.5).otherwise(F.col(\"Humidity3pm\")))\n",
    "updatedpres9 = updatedhum3.withColumn(\"Pressure9am\",F.when(F.col(\"Pressure9am\") == 'NA',1017.7).otherwise(F.col(\"Pressure9am\")))\n",
    "inputted_numeric = updatedpres9.withColumn(\"Pressure3pm\",F.when(F.col(\"Pressure3pm\") == 'NA',1015.3).otherwise(F.col(\"Pressure3pm\")))"
   ]
  },
  {
   "cell_type": "markdown",
   "metadata": {},
   "source": [
    "##### Step 5.2 Inputting average of non numeric columns\n",
    "\n",
    "For this step, I am inputting the most frequent word of non numeric columns and replacing the NA values with the most frequent word"
   ]
  },
  {
   "cell_type": "code",
   "execution_count": 13,
   "metadata": {},
   "outputs": [
    {
     "name": "stdout",
     "output_type": "stream",
     "text": [
      "+-----------+-----+\n",
      "|Windgustdir|count|\n",
      "+-----------+-----+\n",
      "|          W| 9780|\n",
      "+-----------+-----+\n",
      "only showing top 1 row\n",
      "\n"
     ]
    }
   ],
   "source": [
    "# obtaining highest count for column Windgustdir through getting the count and sorting by descending value\n",
    "weather.withColumn('Windgustdir', f.explode(f.split(f.col('WindGustDir'), ' ')))\\\n",
    "    .groupBy('Windgustdir')\\\n",
    "    .count()\\\n",
    "    .sort('count', ascending=False)\\\n",
    "    .show(1)\n",
    "                   "
   ]
  },
  {
   "cell_type": "code",
   "execution_count": 14,
   "metadata": {},
   "outputs": [
    {
     "name": "stdout",
     "output_type": "stream",
     "text": [
      "+----------+-----+\n",
      "|Winddir9am|count|\n",
      "+----------+-----+\n",
      "|         N|11393|\n",
      "+----------+-----+\n",
      "only showing top 1 row\n",
      "\n"
     ]
    }
   ],
   "source": [
    "# obtaining highest count for column Winddir9am through getting the count and sorting by descending value\n",
    "weather.withColumn('Winddir9am', f.explode(f.split(f.col('WindDir9am'), ' ')))\\\n",
    "    .groupBy('Winddir9am')\\\n",
    "    .count()\\\n",
    "    .sort('count', ascending=False)\\\n",
    "    .show(1)"
   ]
  },
  {
   "cell_type": "code",
   "execution_count": 15,
   "metadata": {},
   "outputs": [
    {
     "name": "stdout",
     "output_type": "stream",
     "text": [
      "+----------------+-----+\n",
      "|count_winddir3pm|count|\n",
      "+----------------+-----+\n",
      "|              SE|10663|\n",
      "+----------------+-----+\n",
      "only showing top 1 row\n",
      "\n"
     ]
    }
   ],
   "source": [
    "# obtaining highest count for column Winddir3pm through getting the count and sorting by descending value\n",
    "weather.withColumn('count_winddir3pm', f.explode(f.split(f.col('WindDir3pm'), ' ')))\\\n",
    "    .groupBy('count_winddir3pm')\\\n",
    "    .count()\\\n",
    "    .sort('count', ascending=False)\\\n",
    "    .show(1)"
   ]
  },
  {
   "cell_type": "code",
   "execution_count": 16,
   "metadata": {},
   "outputs": [
    {
     "name": "stdout",
     "output_type": "stream",
     "text": [
      "+----------+------+\n",
      "|Rain_today| count|\n",
      "+----------+------+\n",
      "|        No|109332|\n",
      "+----------+------+\n",
      "only showing top 1 row\n",
      "\n"
     ]
    }
   ],
   "source": [
    "# obtaining highest count for column rain_today through getting the count and sorting by descending value\n",
    "weather.withColumn('Rain_today', f.explode(f.split(f.col('RainToday'), ' ')))\\\n",
    "    .groupBy('Rain_today')\\\n",
    "    .count()\\\n",
    "    .sort('count', ascending=False)\\\n",
    "    .show(1)"
   ]
  },
  {
   "cell_type": "code",
   "execution_count": 17,
   "metadata": {},
   "outputs": [
    {
     "name": "stdout",
     "output_type": "stream",
     "text": [
      "+-------------+------+\n",
      "|Rain_tomorrow| count|\n",
      "+-------------+------+\n",
      "|           No|110316|\n",
      "+-------------+------+\n",
      "only showing top 1 row\n",
      "\n"
     ]
    }
   ],
   "source": [
    "# obtaining highest count for column rain_tomorrow through getting the count and sorting by descending value\n",
    "weather.withColumn('Rain_tomorrow', f.explode(f.split(f.col('RainTomorrow'), ' ')))\\\n",
    "    .groupBy('Rain_tomorrow')\\\n",
    "    .count()\\\n",
    "    .sort('count', ascending=False)\\\n",
    "    .show(1)"
   ]
  },
  {
   "cell_type": "code",
   "execution_count": 18,
   "metadata": {},
   "outputs": [],
   "source": [
    "#inputting the NA values for the column with the most frequent word calculated above\n",
    "\n",
    "updatedwindgust = inputted_numeric.withColumn(\"WindGustDir\",F.when(F.col(\"WindGustDir\") == 'NA','W').otherwise(F.col(\"WindGustDir\")))\n",
    "updatedwindir9 = updatedwindgust.withColumn(\"WindDir9am\",F.when(F.col(\"WindDir9am\") == 'NA','N').otherwise(F.col(\"WindDir9am\")))\n",
    "updatedwindir3 = updatedwindir9.withColumn(\"WindDir3pm\",F.when(F.col(\"WindDir3pm\") == 'NA','SE').otherwise(F.col(\"WindDir3pm\")))\n",
    "updatedraint = updatedwindir3.withColumn(\"RainToday\",F.when(F.col(\"RainToday\") == 'NA','No').otherwise(F.col(\"RainToday\")))\n",
    "inputted_weather = updatedraint.withColumn(\"RainTomorrow\",F.when(F.col(\"RainTomorrow\") == 'NA','No').otherwise(F.col(\"RainTomorrow\")))"
   ]
  },
  {
   "cell_type": "markdown",
   "metadata": {},
   "source": [
    "### Step 6: Data Transformation \n",
    "\n",
    "Data transformation is done so that it will be useful to process by the machine learning algorithm. Numerical value columns are firstly transformed by type casting them to double as they are defined as string. Then, the non numerical value column are converted to numbers using stringindexer."
   ]
  },
  {
   "cell_type": "code",
   "execution_count": 19,
   "metadata": {},
   "outputs": [
    {
     "data": {
      "text/plain": [
       "[('MinTemp', 'string'),\n",
       " ('MaxTemp', 'string'),\n",
       " ('Rainfall', 'string'),\n",
       " ('WindGustDir', 'string'),\n",
       " ('WindGustSpeed', 'string'),\n",
       " ('WindDir9am', 'string'),\n",
       " ('WindDir3pm', 'string'),\n",
       " ('WindSpeed9am', 'string'),\n",
       " ('WindSpeed3pm', 'string'),\n",
       " ('Humidity9am', 'string'),\n",
       " ('Humidity3pm', 'string'),\n",
       " ('Pressure9am', 'string'),\n",
       " ('Pressure3pm', 'string'),\n",
       " ('RainToday', 'string'),\n",
       " ('RainTomorrow', 'string')]"
      ]
     },
     "execution_count": 19,
     "metadata": {},
     "output_type": "execute_result"
    }
   ],
   "source": [
    "# looking at the dataframe datatype\n",
    "inputted_weather.dtypes"
   ]
  },
  {
   "cell_type": "code",
   "execution_count": 20,
   "metadata": {},
   "outputs": [],
   "source": [
    "# list of numeric column\n",
    "numeric_col = ['MinTemp', 'MaxTemp', 'Rainfall', 'WindGustSpeed', 'WindSpeed9am', 'WindSpeed3pm', 'Humidity9am', 'Humidity3pm', 'Pressure9am', 'Pressure3pm']"
   ]
  },
  {
   "cell_type": "code",
   "execution_count": 21,
   "metadata": {},
   "outputs": [],
   "source": [
    "# looping through the numerical columns and transforming them by type casting them to make them double \n",
    "for i in numeric_col:\n",
    "    inputted_weather = inputted_weather.withColumn(i, inputted_weather[i].cast(DoubleType()))\n",
    "  "
   ]
  },
  {
   "cell_type": "code",
   "execution_count": 22,
   "metadata": {},
   "outputs": [
    {
     "data": {
      "text/plain": [
       "[('MinTemp', 'double'),\n",
       " ('MaxTemp', 'double'),\n",
       " ('Rainfall', 'double'),\n",
       " ('WindGustDir', 'string'),\n",
       " ('WindGustSpeed', 'double'),\n",
       " ('WindDir9am', 'string'),\n",
       " ('WindDir3pm', 'string'),\n",
       " ('WindSpeed9am', 'double'),\n",
       " ('WindSpeed3pm', 'double'),\n",
       " ('Humidity9am', 'double'),\n",
       " ('Humidity3pm', 'double'),\n",
       " ('Pressure9am', 'double'),\n",
       " ('Pressure3pm', 'double'),\n",
       " ('RainToday', 'string'),\n",
       " ('RainTomorrow', 'string')]"
      ]
     },
     "execution_count": 22,
     "metadata": {},
     "output_type": "execute_result"
    }
   ],
   "source": [
    "# checking updated data type\n",
    "inputted_weather.dtypes"
   ]
  },
  {
   "cell_type": "code",
   "execution_count": 23,
   "metadata": {},
   "outputs": [],
   "source": [
    "# list of non numeric columns\n",
    "non_numeric = ['WindGustDir','WindDir9am','WindDir3pm','RainToday','RainTomorrow']"
   ]
  },
  {
   "cell_type": "code",
   "execution_count": 24,
   "metadata": {},
   "outputs": [],
   "source": [
    "# looping through non numeric columns and converting them into numbers using stringindexer\n",
    "\n",
    "for i in non_numeric:\n",
    "    # creating a new column with converted number outputs\n",
    "    l_indexer = StringIndexer(inputCol= i , outputCol= 'category' + i )\n",
    "    inputted_weather = l_indexer.fit(inputted_weather).transform(inputted_weather)"
   ]
  },
  {
   "cell_type": "code",
   "execution_count": 25,
   "metadata": {},
   "outputs": [
    {
     "data": {
      "text/plain": [
       "[Row(MinTemp=13.4, MaxTemp=22.9, Rainfall=0.6, WindGustDir='W', WindGustSpeed=44.0, WindDir9am='W', WindDir3pm='WNW', WindSpeed9am=20.0, WindSpeed3pm=24.0, Humidity9am=71.0, Humidity3pm=22.0, Pressure9am=1007.7, Pressure3pm=1007.1, RainToday='No', RainTomorrow='No', categoryWindGustDir=0.0, categoryWindDir9am=6.0, categoryWindDir3pm=7.0, categoryRainToday=0.0, categoryRainTomorrow=0.0),\n",
       " Row(MinTemp=7.4, MaxTemp=25.1, Rainfall=0.0, WindGustDir='WNW', WindGustSpeed=44.0, WindDir9am='NNW', WindDir3pm='WSW', WindSpeed9am=4.0, WindSpeed3pm=22.0, Humidity9am=44.0, Humidity3pm=25.0, Pressure9am=1010.6, Pressure3pm=1007.8, RainToday='No', RainTomorrow='No', categoryWindGustDir=9.0, categoryWindDir9am=9.0, categoryWindDir3pm=3.0, categoryRainToday=0.0, categoryRainTomorrow=0.0)]"
      ]
     },
     "execution_count": 25,
     "metadata": {},
     "output_type": "execute_result"
    }
   ],
   "source": [
    "inputted_weather.head(2)"
   ]
  },
  {
   "cell_type": "code",
   "execution_count": 26,
   "metadata": {},
   "outputs": [],
   "source": [
    "# dropping initial non numerical columns \n",
    "inputted_weather = inputted_weather.drop('WindGustDir','WindDir9am','WindDir3pm','RainToday')"
   ]
  },
  {
   "cell_type": "code",
   "execution_count": 27,
   "metadata": {},
   "outputs": [
    {
     "data": {
      "text/plain": [
       "[Row(MinTemp=13.4, MaxTemp=22.9, Rainfall=0.6, WindGustSpeed=44.0, WindSpeed9am=20.0, WindSpeed3pm=24.0, Humidity9am=71.0, Humidity3pm=22.0, Pressure9am=1007.7, Pressure3pm=1007.1, RainTomorrow='No', categoryWindGustDir=0.0, categoryWindDir9am=6.0, categoryWindDir3pm=7.0, categoryRainToday=0.0, categoryRainTomorrow=0.0),\n",
       " Row(MinTemp=7.4, MaxTemp=25.1, Rainfall=0.0, WindGustSpeed=44.0, WindSpeed9am=4.0, WindSpeed3pm=22.0, Humidity9am=44.0, Humidity3pm=25.0, Pressure9am=1010.6, Pressure3pm=1007.8, RainTomorrow='No', categoryWindGustDir=9.0, categoryWindDir9am=9.0, categoryWindDir3pm=3.0, categoryRainToday=0.0, categoryRainTomorrow=0.0)]"
      ]
     },
     "execution_count": 27,
     "metadata": {},
     "output_type": "execute_result"
    }
   ],
   "source": [
    "inputted_weather.head(2)"
   ]
  },
  {
   "cell_type": "code",
   "execution_count": 28,
   "metadata": {},
   "outputs": [
    {
     "data": {
      "text/plain": [
       "[('MinTemp', 'double'),\n",
       " ('MaxTemp', 'double'),\n",
       " ('Rainfall', 'double'),\n",
       " ('WindGustSpeed', 'double'),\n",
       " ('WindSpeed9am', 'double'),\n",
       " ('WindSpeed3pm', 'double'),\n",
       " ('Humidity9am', 'double'),\n",
       " ('Humidity3pm', 'double'),\n",
       " ('Pressure9am', 'double'),\n",
       " ('Pressure3pm', 'double'),\n",
       " ('RainTomorrow', 'string'),\n",
       " ('categoryWindGustDir', 'double'),\n",
       " ('categoryWindDir9am', 'double'),\n",
       " ('categoryWindDir3pm', 'double'),\n",
       " ('categoryRainToday', 'double'),\n",
       " ('categoryRainTomorrow', 'double')]"
      ]
     },
     "execution_count": 28,
     "metadata": {},
     "output_type": "execute_result"
    }
   ],
   "source": [
    "# checking updated data type of dataframe\n",
    "inputted_weather.dtypes"
   ]
  },
  {
   "cell_type": "markdown",
   "metadata": {},
   "source": [
    "### Step 7: Create the feature vector and divide the dataset\n",
    "\n",
    "For this step, I am creating feature vector with the columns in the dataset. To create the feature vector,I have excluded the column (categoryRainTomorrow) that I will be using for testing the accuracy of my model. After the creation of the feature vector, I've split my dataset randomly and between 70 percent and 30 percent"
   ]
  },
  {
   "cell_type": "code",
   "execution_count": 29,
   "metadata": {},
   "outputs": [
    {
     "data": {
      "text/plain": [
       "['MinTemp',\n",
       " 'MaxTemp',\n",
       " 'Rainfall',\n",
       " 'WindGustSpeed',\n",
       " 'WindSpeed9am',\n",
       " 'WindSpeed3pm',\n",
       " 'Humidity9am',\n",
       " 'Humidity3pm',\n",
       " 'Pressure9am',\n",
       " 'Pressure3pm']"
      ]
     },
     "execution_count": 29,
     "metadata": {},
     "output_type": "execute_result"
    }
   ],
   "source": [
    "numeric_col"
   ]
  },
  {
   "cell_type": "code",
   "execution_count": 30,
   "metadata": {},
   "outputs": [
    {
     "name": "stdout",
     "output_type": "stream",
     "text": [
      "+-------+-------+--------+-------------+------------+------------+-----------+-----------+-----------+-----------+------------+-------------------+------------------+------------------+-----------------+--------------------+--------------------+\n",
      "|MinTemp|MaxTemp|Rainfall|WindGustSpeed|WindSpeed9am|WindSpeed3pm|Humidity9am|Humidity3pm|Pressure9am|Pressure3pm|RainTomorrow|categoryWindGustDir|categoryWindDir9am|categoryWindDir3pm|categoryRainToday|categoryRainTomorrow|   Prob_RainTomorrow|\n",
      "+-------+-------+--------+-------------+------------+------------+-----------+-----------+-----------+-----------+------------+-------------------+------------------+------------------+-----------------+--------------------+--------------------+\n",
      "|   13.4|   22.9|     0.6|         44.0|        20.0|        24.0|       71.0|       22.0|     1007.7|     1007.1|          No|                0.0|               6.0|               7.0|              0.0|                 0.0|[13.4,22.9,0.6,44...|\n",
      "|    7.4|   25.1|     0.0|         44.0|         4.0|        22.0|       44.0|       25.0|     1010.6|     1007.8|          No|                9.0|               9.0|               3.0|              0.0|                 0.0|[7.4,25.1,0.0,44....|\n",
      "|   12.9|   25.7|     0.0|         46.0|        19.0|        26.0|       38.0|       30.0|     1007.6|     1008.7|          No|                6.0|               6.0|               3.0|              0.0|                 0.0|[12.9,25.7,0.0,46...|\n",
      "+-------+-------+--------+-------------+------------+------------+-----------+-----------+-----------+-----------+------------+-------------------+------------------+------------------+-----------------+--------------------+--------------------+\n",
      "only showing top 3 rows\n",
      "\n"
     ]
    }
   ],
   "source": [
    "# using vectorassembler function which is a transformer to combine the list of features to a single vector column.\n",
    "# the column which i would like to predict is excluded from the vector\n",
    "vector_assembler = VectorAssembler(\\\n",
    "\n",
    "inputCols=['MinTemp','MaxTemp','Rainfall','WindGustSpeed','WindSpeed9am','WindSpeed3pm','Humidity9am','Humidity3pm','Pressure9am','Pressure3pm','categoryWindGustDir', 'categoryWindDir9am', 'categoryWindDir3pm', 'categoryRainToday'],\\\n",
    "outputCol=  'Prob_RainTomorrow')\n",
    "\n",
    "#transforming to vector feature\n",
    "df_temp = vector_assembler.transform(inputted_weather)\n",
    "df_temp.show(3)"
   ]
  },
  {
   "cell_type": "code",
   "execution_count": 31,
   "metadata": {},
   "outputs": [],
   "source": [
    "# splitting dataset between training and testdata. 70% is allocated to training data while 30% is allocated to testdata\n",
    "(trainingData, testData) = df_temp.randomSplit([0.7, 0.3])"
   ]
  },
  {
   "cell_type": "markdown",
   "metadata": {},
   "source": [
    "## C. Apply Machine Learning Algorithms"
   ]
  },
  {
   "cell_type": "markdown",
   "metadata": {},
   "source": [
    "### Step 8: Apply Machine Learning Classification Algorithms on the dataset and compare their accuracy\n",
    "\n",
    "For this step, 4 machine learning classfication algorithms consisting of  Decision tree, random forest, logistic regression and gradient boosting were used and their accuracy are compared. "
   ]
  },
  {
   "cell_type": "markdown",
   "metadata": {},
   "source": [
    "####  Applying Decision Tree Classifier"
   ]
  },
  {
   "cell_type": "code",
   "execution_count": 32,
   "metadata": {},
   "outputs": [
    {
     "name": "stdout",
     "output_type": "stream",
     "text": [
      "+----------+--------------------+\n",
      "|prediction|categoryRainTomorrow|\n",
      "+----------+--------------------+\n",
      "|       0.0|                 0.0|\n",
      "|       0.0|                 0.0|\n",
      "|       0.0|                 0.0|\n",
      "|       0.0|                 0.0|\n",
      "|       0.0|                 0.0|\n",
      "+----------+--------------------+\n",
      "only showing top 5 rows\n",
      "\n",
      "Test Error = 0.163926 \n",
      "Accuracy Total 83.61 %\n"
     ]
    }
   ],
   "source": [
    "# applying decision tree classifier algorithm \n",
    "dt = DecisionTreeClassifier(labelCol='categoryRainTomorrow' , featuresCol=\"Prob_RainTomorrow\")\n",
    "model = dt.fit(trainingData)\n",
    "\n",
    "dect_predictions = model.transform(testData)\n",
    "\n",
    "dect_predictions.select(\"prediction\", \"categoryRainTomorrow\").show(5)\n",
    "\n",
    "evaluator = MulticlassClassificationEvaluator(\\\n",
    "\n",
    "labelCol=\"categoryRainTomorrow\", predictionCol=\"prediction\",\\\n",
    "\n",
    "metricName=\"accuracy\")\n",
    "\n",
    "#evaluating accuracy of predictions\n",
    "accuracy_decisiontree = evaluator.evaluate(dect_predictions)\n",
    "\n",
    "round_acc_dt = round(accuracy_decisiontree*100,2)\n",
    "\n",
    "print(\"Test Error = %g \" % (1.0 - accuracy_decisiontree))\n",
    "print(\"Accuracy Total\",round_acc_dt,'%')"
   ]
  },
  {
   "cell_type": "markdown",
   "metadata": {},
   "source": [
    "#### Applying Random Forest Classifier"
   ]
  },
  {
   "cell_type": "code",
   "execution_count": 33,
   "metadata": {},
   "outputs": [
    {
     "name": "stdout",
     "output_type": "stream",
     "text": [
      "+----------+--------------------+\n",
      "|prediction|categoryRainTomorrow|\n",
      "+----------+--------------------+\n",
      "|       0.0|                 0.0|\n",
      "|       0.0|                 0.0|\n",
      "|       0.0|                 0.0|\n",
      "|       0.0|                 0.0|\n",
      "|       0.0|                 0.0|\n",
      "+----------+--------------------+\n",
      "only showing top 5 rows\n",
      "\n",
      "Test Error = 0.164114\n",
      "Accuracy Total: 83.59 %\n"
     ]
    }
   ],
   "source": [
    "# applying random tree classifier algorithm\n",
    "\n",
    "rf = RandomForestClassifier(labelCol= 'categoryRainTomorrow',\\\n",
    "featuresCol=\"Prob_RainTomorrow\", numTrees=10)\n",
    "\n",
    "model = rf.fit(trainingData)\n",
    "\n",
    "rfor_predictions = model.transform(testData)\n",
    "\n",
    "rfor_predictions.select(\"prediction\",'categoryRainTomorrow' ).show(5)\n",
    "\n",
    "# evaluating accuracy of prediction\n",
    "evaluator =\\\n",
    "MulticlassClassificationEvaluator(labelCol=\"categoryRainTomorrow\",\\\n",
    "predictionCol=\"prediction\", metricName=\"accuracy\")\n",
    "\n",
    "accuracy_rf = evaluator.evaluate(rfor_predictions)\n",
    "round_acc_rf = round(accuracy_rf*100,2)\n",
    "\n",
    "print(\"Test Error = %g\" % (1.0 - accuracy_rf))\n",
    "print(\"Accuracy Total:\",round_acc_rf,'%')"
   ]
  },
  {
   "cell_type": "markdown",
   "metadata": {},
   "source": [
    "#### Applying Logistic Regression"
   ]
  },
  {
   "cell_type": "code",
   "execution_count": 34,
   "metadata": {},
   "outputs": [
    {
     "name": "stdout",
     "output_type": "stream",
     "text": [
      "+----------+--------------------+\n",
      "|prediction|categoryRainTomorrow|\n",
      "+----------+--------------------+\n",
      "|       0.0|                 0.0|\n",
      "|       0.0|                 0.0|\n",
      "|       0.0|                 0.0|\n",
      "|       0.0|                 0.0|\n",
      "|       0.0|                 0.0|\n",
      "+----------+--------------------+\n",
      "only showing top 5 rows\n",
      "\n",
      "Test Error = 0.160604 \n",
      "Accuracy Total: 83.94 %\n"
     ]
    }
   ],
   "source": [
    "# applying logistic regression algorithm\n",
    "\n",
    "dt = LogisticRegression(labelCol='categoryRainTomorrow' , featuresCol=\"Prob_RainTomorrow\")\n",
    "model = dt.fit(trainingData)\n",
    "\n",
    "logr_predictions = model.transform(testData)\n",
    "\n",
    "logr_predictions.select(\"prediction\", \"categoryRainTomorrow\").show(5)\n",
    "\n",
    "evaluator = MulticlassClassificationEvaluator(\\\n",
    "\n",
    "labelCol=\"categoryRainTomorrow\", predictionCol=\"prediction\",\\\n",
    "\n",
    "metricName=\"accuracy\")\n",
    "\n",
    "#evaluating accuracy of prediction\n",
    "accuracy_lr = evaluator.evaluate(logr_predictions)\n",
    "round_acc_lr = round(accuracy_lr*100,2)\n",
    "\n",
    "print(\"Test Error = %g \" % (1.0 - accuracy_lr))\n",
    "print(\"Accuracy Total:\",round_acc_lr,'%')"
   ]
  },
  {
   "cell_type": "markdown",
   "metadata": {},
   "source": [
    "#### Applying GBTClassifier"
   ]
  },
  {
   "cell_type": "code",
   "execution_count": 35,
   "metadata": {},
   "outputs": [
    {
     "name": "stdout",
     "output_type": "stream",
     "text": [
      "+----------+--------------------+\n",
      "|prediction|categoryRainTomorrow|\n",
      "+----------+--------------------+\n",
      "|       0.0|                 0.0|\n",
      "|       0.0|                 0.0|\n",
      "|       0.0|                 0.0|\n",
      "|       0.0|                 0.0|\n",
      "|       0.0|                 0.0|\n",
      "+----------+--------------------+\n",
      "only showing top 5 rows\n",
      "\n",
      "Test Error = 0.157259 \n",
      "Accuracy Total: 84.27 %\n"
     ]
    }
   ],
   "source": [
    "# applying gradient boost algorithm\n",
    "\n",
    "dt = GBTClassifier(labelCol='categoryRainTomorrow' , featuresCol=\"Prob_RainTomorrow\")\n",
    "model = dt.fit(trainingData)\n",
    "\n",
    "gbt_predictions = model.transform(testData)\n",
    "\n",
    "gbt_predictions.select(\"prediction\", \"categoryRainTomorrow\").show(5)\n",
    "\n",
    "evaluator = MulticlassClassificationEvaluator(\\\n",
    "\n",
    "labelCol=\"categoryRainTomorrow\", predictionCol=\"prediction\",\\\n",
    "\n",
    "metricName=\"accuracy\")\n",
    "\n",
    "# evaluating accuracy of prediction\n",
    "accuracy_GBT = evaluator.evaluate(gbt_predictions)\n",
    "round_acc_GBT = round(accuracy_GBT*100,2)\n",
    "\n",
    "print(\"Test Error = %g \" % (1.0 - accuracy_GBT))\n",
    "print(\"Accuracy Total:\",round_acc_GBT,'%')"
   ]
  },
  {
   "cell_type": "markdown",
   "metadata": {},
   "source": [
    "#### Plotting graph to demonstrate comparison of accuracy"
   ]
  },
  {
   "cell_type": "code",
   "execution_count": 36,
   "metadata": {},
   "outputs": [
    {
     "data": {
      "image/png": "[encoded data removed]",
      "text/plain": [
       "<Figure size 1440x720 with 1 Axes>"
      ]
     },
     "metadata": {
      "needs_background": "light"
     },
     "output_type": "display_data"
    }
   ],
   "source": [
    "ml_algo = ['Decision Tree','Random Forect','Logistic Regression','GBT Classifier']\n",
    "total_accuracy = [round_acc_dt,round_acc_rf,round_acc_lr,round_acc_GBT]\n",
    "\n",
    "plt.figure(figsize = (20,10))\n",
    "plt.bar(ml_algo, total_accuracy)\n",
    "plt.xlabel('Machine Learning Classification')\n",
    "plt.ylabel('Total Accuracy')\n",
    "plt.title('Comparing Machine Learning Classification Accuracy Level')\n",
    "plt.show()\n",
    "\n"
   ]
  },
  {
   "cell_type": "markdown",
   "metadata": {},
   "source": [
    "From the plot above, we can see that the 4 algorithm have the similiar total accuracy. GBT Classifier has the highest accuracy with an accuracy of 84.1%."
   ]
  },
  {
   "cell_type": "markdown",
   "metadata": {},
   "source": [
    "### Step 9: Calculate Confusion Matrix \n",
    "\n",
    "The confusion matrix is calculated using the confusion matrix function to obtain the true positive, true negative, false positive and false negative values. The precision and recall score for each model is calculated with the true positive, true negative, false positive and false negative values obtained from the confusion matrix. Precision score is calculated to find out the percentage of which the results are relevant whereas recall score is used to find out the percentage of total relevant results correctly classified by the algorithm. F1 score, the weighted average is obtained from the values of the precision and recall score. F1 is used to measure the test's accuracy.\n"
   ]
  },
  {
   "cell_type": "code",
   "execution_count": 37,
   "metadata": {},
   "outputs": [],
   "source": [
    "# getting rdd list of values of rain tomorrow and predicted values and putting it to multiclassmetrics function which\n",
    "# is an evaluator for multiclass classification\n",
    "dect_predict= dect_predictions.select(\"prediction\", \"categoryRainTomorrow\").rdd\n",
    "dect_metrics = MulticlassMetrics(dect_predict)\n",
    "\n",
    "\n",
    "rfor_predict= rfor_predictions.select(\"prediction\", \"categoryRainTomorrow\").rdd\n",
    "rfor_metrics = MulticlassMetrics(rfor_predict)\n",
    "\n",
    "\n",
    "logr_predict= logr_predictions.select(\"prediction\", \"categoryRainTomorrow\").rdd\n",
    "logr_metrics = MulticlassMetrics(logr_predict)\n",
    "\n",
    "\n",
    "gbt_predict= gbt_predictions.select(\"prediction\", \"categoryRainTomorrow\").rdd\n",
    "gbt_metrics = MulticlassMetrics(gbt_predict)\n",
    "\n"
   ]
  },
  {
   "cell_type": "code",
   "execution_count": 38,
   "metadata": {},
   "outputs": [],
   "source": [
    "# converting evaluated matrix of confusion matrix to array\n",
    "dect_val = dect_metrics.confusionMatrix().toArray()\n",
    "rfot_val = rfor_metrics.confusionMatrix().toArray()\n",
    "logr_val = logr_metrics.confusionMatrix().toArray()\n",
    "gbt_val = gbt_metrics.confusionMatrix().toArray()\n"
   ]
  },
  {
   "cell_type": "code",
   "execution_count": 39,
   "metadata": {},
   "outputs": [],
   "source": [
    "# function for calculation of precision, recall and f1 score\n",
    "def precision(true_pos,false_pos):\n",
    "    precision = true_pos/ (true_pos + false_pos)\n",
    "    return precision\n",
    "\n",
    "def recall(true_pos,false_neg):\n",
    "    recall = true_pos/(true_pos + false_neg)\n",
    "    return recall\n",
    "    \n",
    "def f1score(precision,recall):\n",
    "    f1 = 2*(precision * recall)/(precision + recall )\n",
    "    return f1\n",
    "    \n",
    "    "
   ]
  },
  {
   "cell_type": "markdown",
   "metadata": {},
   "source": [
    "#### Calculating precision, recall and f1 score for decision tree"
   ]
  },
  {
   "cell_type": "code",
   "execution_count": 40,
   "metadata": {},
   "outputs": [
    {
     "name": "stdout",
     "output_type": "stream",
     "text": [
      "Precision score for decision tree: 0.7434514637904468\n",
      "Recall score for decision tree: 0.4069154543537845\n",
      "F1 score for decision tree: 0.5259572148794114\n"
     ]
    }
   ],
   "source": [
    "# passing through precision, recall and f1 score function with values from individual machine learning confusion matrix\n",
    "# values of true positive, false positive and false negative to calculate precision, recall and f1 score\n",
    "\n",
    "# passing decision tree's true positive and false positive value from confusion matrix into precision function to calculate\n",
    "# precision\n",
    "precision_dect = precision(dect_val[1][1],dect_val[0][1])\n",
    "# passing decision tree's true positive and false negative value from confusion matrix into precision function to calculate\n",
    "# recall\n",
    "recall_dect = recall(dect_val[1][1],dect_val[1][0])\n",
    "# passing decision tree precision and recall values to f1score function to get f1 score\n",
    "f1_dect = f1score(precision_dect,recall_dect)\n",
    "\n",
    "print('Precision score for decision tree:',precision_dect)\n",
    "print('Recall score for decision tree:',recall_dect)\n",
    "print('F1 score for decision tree:', f1_dect)"
   ]
  },
  {
   "cell_type": "markdown",
   "metadata": {},
   "source": [
    "#### Calculating precision, recall and f1 score for random forest"
   ]
  },
  {
   "cell_type": "code",
   "execution_count": 41,
   "metadata": {},
   "outputs": [
    {
     "name": "stdout",
     "output_type": "stream",
     "text": [
      "Precision score for random forest: 0.7686567164179104\n",
      "Recall score for random forest: 0.380033733923677\n",
      "F1 score for random forest: 0.5086060948081265\n"
     ]
    }
   ],
   "source": [
    "# passing through precision, recall and f1 score function with values from individual machine learning confusion matrix\n",
    "# values of true positive, false positive and false negative to calculate precision, recall and f1 score\n",
    "\n",
    "# passing random forest's true positive and false positive value from confusion matrix into precision function to\n",
    "#calculate precision\n",
    "precision_rfot = precision(rfot_val[1][1],rfot_val[0][1])\n",
    "# passing random forest's true positive and false negative value from confusion matrix into precision function to\n",
    "# calculate recall\n",
    "recall_rfot = recall(rfot_val[1][1],rfot_val[1][0])\n",
    "# passing random forest precision and recall values to f1score function to get f1 score\n",
    "f1_rfot = f1score(precision_rfot,recall_rfot)\n",
    "\n",
    "print('Precision score for random forest:',precision_rfot)\n",
    "print('Recall score for random forest:',recall_rfot)\n",
    "print('F1 score for random forest:', f1_rfot)"
   ]
  },
  {
   "cell_type": "markdown",
   "metadata": {},
   "source": [
    "#### Calculating precision, recall and f1 score for logistic regression"
   ]
  },
  {
   "cell_type": "code",
   "execution_count": 42,
   "metadata": {},
   "outputs": [
    {
     "name": "stdout",
     "output_type": "stream",
     "text": [
      "Precision score for logistic regression: 0.7224537422903817\n",
      "Recall score for logistic regression: 0.45688382880033734\n",
      "F1 score for logistic regression: 0.559767516951889\n"
     ]
    }
   ],
   "source": [
    "#passing through precision, recall and f1 score function with values from individual machine learning confusion matrix\n",
    "# values of true positive, false positive and false negative to calculate precision, recall and f1 score\n",
    "\n",
    "# passing logistic regression's true positive and false positive value from confusion matrix into precision function\n",
    "#to calculate precision\n",
    "precision_logr = precision(logr_val[1][1],logr_val[0][1])\n",
    "# passing logistic regression's true positive and false negative value from confusion matrix into precision function to\n",
    "# calculate recall\n",
    "recall_logr = recall(logr_val[1][1],logr_val[1][0])\n",
    "# passing logistic regression precision and recall values to f1score function to get f1 score\n",
    "f1_logr = f1score(precision_logr,recall_logr)\n",
    "\n",
    "print('Precision score for logistic regression:',precision_logr)\n",
    "print('Recall score for logistic regression:',recall_logr)\n",
    "print('F1 score for logistic regression:', f1_logr)"
   ]
  },
  {
   "cell_type": "markdown",
   "metadata": {},
   "source": [
    "#### Calculating precision, recall and f1 score for gradient boost"
   ]
  },
  {
   "cell_type": "code",
   "execution_count": 43,
   "metadata": {},
   "outputs": [
    {
     "name": "stdout",
     "output_type": "stream",
     "text": [
      "Precision score for gradient boost: 0.731358024691358\n",
      "Recall score for gradient boost: 0.4683744465528147\n",
      "F1 score for gradient boost: 0.5710429920956237\n"
     ]
    }
   ],
   "source": [
    "#passing through precision, recall and f1 score function with values from individual machine learning confusion matrix\n",
    "# values of true positive, false positive and false negative to calculate precision, recall and f1 score\n",
    "\n",
    "# passing gradient boost's true positive and false positive value from confusion matrix into precision function\n",
    "#to calculate precision\n",
    "precision_gbt = precision(gbt_val[1][1],gbt_val[0][1])\n",
    "# passing gradient boost's true positive and false negative value from confusion matrix into precision function to\n",
    "# calculate recall\n",
    "recall_gbt = recall(gbt_val[1][1],gbt_val[1][0])\n",
    "# passing gradient boost precision and recall values to f1score function to get f1 score\n",
    "f1_gbt = f1score(precision_gbt,recall_gbt)\n",
    "\n",
    "print('Precision score for gradient boost:',precision_gbt)\n",
    "print('Recall score for gradient boost:',recall_gbt)\n",
    "print('F1 score for gradient boost:', f1_gbt)"
   ]
  },
  {
   "cell_type": "markdown",
   "metadata": {},
   "source": [
    "The accuracy of the model can be improved by:\n",
    "\n",
    "1. Using multiple imputation to place in missing values instead of mean values. The flaw of inputting mean values is that  substituting the identical score for a large portion of the sample artificially decreases the variance of the variable , and makes the effect  of missing data more profound when the percentage of missing data increases. Using multiple imputation will reduce the bias and increase accuracy. \n",
    "\n",
    "2. Adding more data. A larger data set allows better accuracy as you are able to train more data and obtain a more accurate output\n"
   ]
  }
 ],
 "metadata": {
  "kernelspec": {
   "display_name": "Python 3",
   "language": "python",
   "name": "python3"
  },
  "language_info": {
   "codemirror_mode": {
    "name": "ipython",
    "version": 3
   },
   "file_extension": ".py",
   "mimetype": "text/x-python",
   "name": "python",
   "nbconvert_exporter": "python",
   "pygments_lexer": "ipython3",
   "version": "3.7.6"
  }
 },
 "nbformat": 4,
 "nbformat_minor": 2
}
